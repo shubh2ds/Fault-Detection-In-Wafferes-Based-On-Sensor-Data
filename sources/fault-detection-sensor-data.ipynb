{
 "cells": [
  {
   "cell_type": "code",
   "execution_count": null,
   "metadata": {},
   "outputs": [],
   "source": [
    "import pandas"
   ]
  }
 ],
 "metadata": {
  "kernelspec": {
   "display_name": "Python 3.10.4 ('venv_ml')",
   "language": "python",
   "name": "python3"
  },
  "language_info": {
   "name": "python",
   "version": "3.10.4"
  },
  "orig_nbformat": 4,
  "vscode": {
   "interpreter": {
    "hash": "cf77c116ce3d57a796461a47493f4847241b9e766202dc19ebdd3954060221e2"
   }
  }
 },
 "nbformat": 4,
 "nbformat_minor": 2
}
